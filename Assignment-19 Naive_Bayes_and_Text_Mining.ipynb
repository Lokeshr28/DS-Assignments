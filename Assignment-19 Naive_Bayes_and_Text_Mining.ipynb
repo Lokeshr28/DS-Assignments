{
 "cells": [
  {
   "cell_type": "code",
   "execution_count": 1,
   "metadata": {
    "colab": {
     "base_uri": "https://localhost:8080/",
     "height": 423
    },
    "id": "ZfqnDRA5exTY",
    "outputId": "80383193-ff0f-4b7a-f77c-b30658c5a029"
   },
   "outputs": [
    {
     "data": {
      "text/html": [
       "<div>\n",
       "<style scoped>\n",
       "    .dataframe tbody tr th:only-of-type {\n",
       "        vertical-align: middle;\n",
       "    }\n",
       "\n",
       "    .dataframe tbody tr th {\n",
       "        vertical-align: top;\n",
       "    }\n",
       "\n",
       "    .dataframe thead th {\n",
       "        text-align: right;\n",
       "    }\n",
       "</style>\n",
       "<table border=\"1\" class=\"dataframe\">\n",
       "  <thead>\n",
       "    <tr style=\"text-align: right;\">\n",
       "      <th></th>\n",
       "      <th>Data</th>\n",
       "      <th>Labels</th>\n",
       "    </tr>\n",
       "  </thead>\n",
       "  <tbody>\n",
       "    <tr>\n",
       "      <th>0</th>\n",
       "      <td>Path: cantaloupe.srv.cs.cmu.edu!magnesium.club...</td>\n",
       "      <td>alt.atheism</td>\n",
       "    </tr>\n",
       "    <tr>\n",
       "      <th>1</th>\n",
       "      <td>Newsgroups: alt.atheism\\nPath: cantaloupe.srv....</td>\n",
       "      <td>alt.atheism</td>\n",
       "    </tr>\n",
       "    <tr>\n",
       "      <th>2</th>\n",
       "      <td>Path: cantaloupe.srv.cs.cmu.edu!das-news.harva...</td>\n",
       "      <td>alt.atheism</td>\n",
       "    </tr>\n",
       "    <tr>\n",
       "      <th>3</th>\n",
       "      <td>Path: cantaloupe.srv.cs.cmu.edu!magnesium.club...</td>\n",
       "      <td>alt.atheism</td>\n",
       "    </tr>\n",
       "    <tr>\n",
       "      <th>4</th>\n",
       "      <td>Xref: cantaloupe.srv.cs.cmu.edu alt.atheism:53...</td>\n",
       "      <td>alt.atheism</td>\n",
       "    </tr>\n",
       "    <tr>\n",
       "      <th>...</th>\n",
       "      <td>...</td>\n",
       "      <td>...</td>\n",
       "    </tr>\n",
       "    <tr>\n",
       "      <th>1995</th>\n",
       "      <td>Xref: cantaloupe.srv.cs.cmu.edu talk.abortion:...</td>\n",
       "      <td>talk.religion.misc</td>\n",
       "    </tr>\n",
       "    <tr>\n",
       "      <th>1996</th>\n",
       "      <td>Xref: cantaloupe.srv.cs.cmu.edu talk.religion....</td>\n",
       "      <td>talk.religion.misc</td>\n",
       "    </tr>\n",
       "    <tr>\n",
       "      <th>1997</th>\n",
       "      <td>Xref: cantaloupe.srv.cs.cmu.edu talk.origins:4...</td>\n",
       "      <td>talk.religion.misc</td>\n",
       "    </tr>\n",
       "    <tr>\n",
       "      <th>1998</th>\n",
       "      <td>Xref: cantaloupe.srv.cs.cmu.edu talk.religion....</td>\n",
       "      <td>talk.religion.misc</td>\n",
       "    </tr>\n",
       "    <tr>\n",
       "      <th>1999</th>\n",
       "      <td>Xref: cantaloupe.srv.cs.cmu.edu sci.skeptic:43...</td>\n",
       "      <td>talk.religion.misc</td>\n",
       "    </tr>\n",
       "  </tbody>\n",
       "</table>\n",
       "<p>2000 rows × 2 columns</p>\n",
       "</div>"
      ],
      "text/plain": [
       "                                                   Data              Labels\n",
       "0     Path: cantaloupe.srv.cs.cmu.edu!magnesium.club...         alt.atheism\n",
       "1     Newsgroups: alt.atheism\\nPath: cantaloupe.srv....         alt.atheism\n",
       "2     Path: cantaloupe.srv.cs.cmu.edu!das-news.harva...         alt.atheism\n",
       "3     Path: cantaloupe.srv.cs.cmu.edu!magnesium.club...         alt.atheism\n",
       "4     Xref: cantaloupe.srv.cs.cmu.edu alt.atheism:53...         alt.atheism\n",
       "...                                                 ...                 ...\n",
       "1995  Xref: cantaloupe.srv.cs.cmu.edu talk.abortion:...  talk.religion.misc\n",
       "1996  Xref: cantaloupe.srv.cs.cmu.edu talk.religion....  talk.religion.misc\n",
       "1997  Xref: cantaloupe.srv.cs.cmu.edu talk.origins:4...  talk.religion.misc\n",
       "1998  Xref: cantaloupe.srv.cs.cmu.edu talk.religion....  talk.religion.misc\n",
       "1999  Xref: cantaloupe.srv.cs.cmu.edu sci.skeptic:43...  talk.religion.misc\n",
       "\n",
       "[2000 rows x 2 columns]"
      ]
     },
     "execution_count": 1,
     "metadata": {},
     "output_type": "execute_result"
    }
   ],
   "source": [
    "# Step 1: Data Exploration and Preprocessing\n",
    "import pandas as pd\n",
    "data = pd.read_csv('blogs.csv')\n",
    "data"
   ]
  },
  {
   "cell_type": "code",
   "execution_count": 2,
   "metadata": {
    "colab": {
     "base_uri": "https://localhost:8080/"
    },
    "id": "dgWNlcPYgPEi",
    "outputId": "cb063565-19de-43c9-aa6e-3fc668cc7b20"
   },
   "outputs": [
    {
     "name": "stdout",
     "output_type": "stream",
     "text": [
      "<class 'pandas.core.frame.DataFrame'>\n",
      "RangeIndex: 2000 entries, 0 to 1999\n",
      "Data columns (total 2 columns):\n",
      " #   Column  Non-Null Count  Dtype \n",
      "---  ------  --------------  ----- \n",
      " 0   Data    2000 non-null   object\n",
      " 1   Labels  2000 non-null   object\n",
      "dtypes: object(2)\n",
      "memory usage: 31.4+ KB\n",
      "None\n"
     ]
    }
   ],
   "source": [
    "print(data.info())"
   ]
  },
  {
   "cell_type": "code",
   "execution_count": 3,
   "metadata": {
    "colab": {
     "base_uri": "https://localhost:8080/"
    },
    "id": "WKZ1J9zTgXu6",
    "outputId": "82556a9e-bbe5-41fb-d10c-c21e2cd78308"
   },
   "outputs": [
    {
     "name": "stdout",
     "output_type": "stream",
     "text": [
      "Missing values:\n",
      "Data      0\n",
      "Labels    0\n",
      "dtype: int64\n"
     ]
    }
   ],
   "source": [
    "# Check for missing values\n",
    "missing_values = data.isnull().sum()\n",
    "print(f\"Missing values:\\n{missing_values}\")"
   ]
  },
  {
   "cell_type": "code",
   "execution_count": 4,
   "metadata": {
    "colab": {
     "base_uri": "https://localhost:8080/"
    },
    "id": "jXOfhSEdgZOP",
    "outputId": "e29ed564-6888-47b1-f12c-c50ba24fc7cb"
   },
   "outputs": [
    {
     "name": "stdout",
     "output_type": "stream",
     "text": [
      "Category distribution:\n",
      "alt.atheism                 100\n",
      "comp.graphics               100\n",
      "talk.politics.misc          100\n",
      "talk.politics.mideast       100\n",
      "talk.politics.guns          100\n",
      "soc.religion.christian      100\n",
      "sci.space                   100\n",
      "sci.med                     100\n",
      "sci.electronics             100\n",
      "sci.crypt                   100\n",
      "rec.sport.hockey            100\n",
      "rec.sport.baseball          100\n",
      "rec.motorcycles             100\n",
      "rec.autos                   100\n",
      "misc.forsale                100\n",
      "comp.windows.x              100\n",
      "comp.sys.mac.hardware       100\n",
      "comp.sys.ibm.pc.hardware    100\n",
      "comp.os.ms-windows.misc     100\n",
      "talk.religion.misc          100\n",
      "Name: Labels, dtype: int64\n"
     ]
    }
   ],
   "source": [
    "# Display the distribution of categories\n",
    "category_distribution = data['Labels'].value_counts()\n",
    "print(f\"Category distribution:\\n{category_distribution}\")"
   ]
  },
  {
   "cell_type": "code",
   "execution_count": 5,
   "metadata": {
    "colab": {
     "base_uri": "https://localhost:8080/"
    },
    "id": "5fJ1FUs1gZtN",
    "outputId": "48c219e3-4869-480d-e09c-3501a52aa281"
   },
   "outputs": [
    {
     "name": "stdout",
     "output_type": "stream",
     "text": [
      "                                                Data       Labels\n",
      "0  Path: cantaloupe.srv.cs.cmu.edu!magnesium.club...  alt.atheism\n",
      "1  Newsgroups: alt.atheism\\nPath: cantaloupe.srv....  alt.atheism\n",
      "2  Path: cantaloupe.srv.cs.cmu.edu!das-news.harva...  alt.atheism\n",
      "3  Path: cantaloupe.srv.cs.cmu.edu!magnesium.club...  alt.atheism\n",
      "4  Xref: cantaloupe.srv.cs.cmu.edu alt.atheism:53...  alt.atheism\n"
     ]
    }
   ],
   "source": [
    "print(data.head())"
   ]
  },
  {
   "cell_type": "code",
   "execution_count": 6,
   "metadata": {},
   "outputs": [
    {
     "data": {
      "image/png": "[encoded data removed]",
      "text/plain": [
       "<Figure size 720x432 with 1 Axes>"
      ]
     },
     "metadata": {
      "needs_background": "light"
     },
     "output_type": "display_data"
    }
   ],
   "source": [
    "import matplotlib.pyplot as plt\n",
    "import seaborn as sns\n",
    "\n",
    "# Visualize category distribution\n",
    "plt.figure(figsize=(10, 6))\n",
    "sns.countplot(y='Labels', data=data, palette='viridis')\n",
    "plt.title('Distribution of Blog Categories')\n",
    "plt.xlabel('Number of Blog Posts')\n",
    "plt.ylabel('Categories')\n",
    "plt.show()"
   ]
  },
  {
   "cell_type": "code",
   "execution_count": 7,
   "metadata": {
    "colab": {
     "base_uri": "https://localhost:8080/"
    },
    "id": "-lShbqwDgbor",
    "outputId": "09edd846-aeb1-4124-dad3-7ce7babd81d1"
   },
   "outputs": [
    {
     "name": "stderr",
     "output_type": "stream",
     "text": [
      "[nltk_data] Downloading package stopwords to\n",
      "[nltk_data]     C:\\Users\\lokes\\AppData\\Roaming\\nltk_data...\n",
      "[nltk_data]   Package stopwords is already up-to-date!\n"
     ]
    }
   ],
   "source": [
    "import re\n",
    "import string\n",
    "from nltk.corpus import stopwords\n",
    "\n",
    "# Download stopwords if not already downloaded\n",
    "import nltk\n",
    "nltk.download('stopwords')\n",
    "\n",
    "# Define stopwords\n",
    "stop_words = set(stopwords.words('english'))\n",
    "\n",
    "# Example preprocess function\n",
    "def preprocess_text(text):\n",
    "    # Convert to lowercase\n",
    "    text = text.lower()\n",
    "    # Remove punctuation\n",
    "    text = text.translate(str.maketrans('', '', string.punctuation))\n",
    "    # Tokenize by splitting on whitespace\n",
    "    tokens = text.split()\n",
    "    # Remove stopwords\n",
    "    tokens = [word for word in tokens if word not in stop_words]\n",
    "    # Join tokens back into a single string\n",
    "    processed_text = ' '.join(tokens)\n",
    "    return processed_text\n",
    "\n",
    "# Apply the preprocess function\n",
    "data['Processed_Text'] = data['Data'].apply(preprocess_text)\n"
   ]
  },
  {
   "cell_type": "code",
   "execution_count": 8,
   "metadata": {
    "colab": {
     "base_uri": "https://localhost:8080/"
    },
    "id": "w7ZyGRKagn35",
    "outputId": "16c543f5-8775-454f-da2a-57afca1a7507"
   },
   "outputs": [
    {
     "data": {
      "text/plain": [
       "0       path cantaloupesrvcscmuedumagnesiumclubcccmued...\n",
       "1       newsgroups altatheism path cantaloupesrvcscmue...\n",
       "2       path cantaloupesrvcscmuedudasnewsharvardedunoc...\n",
       "3       path cantaloupesrvcscmuedumagnesiumclubcccmued...\n",
       "4       xref cantaloupesrvcscmuedu altatheism53485 tal...\n",
       "                              ...                        \n",
       "1995    xref cantaloupesrvcscmuedu talkabortion120945 ...\n",
       "1996    xref cantaloupesrvcscmuedu talkreligionmisc837...\n",
       "1997    xref cantaloupesrvcscmuedu talkorigins41030 ta...\n",
       "1998    xref cantaloupesrvcscmuedu talkreligionmisc836...\n",
       "1999    xref cantaloupesrvcscmuedu sciskeptic43561 tal...\n",
       "Name: Processed_Text, Length: 2000, dtype: object"
      ]
     },
     "execution_count": 8,
     "metadata": {},
     "output_type": "execute_result"
    }
   ],
   "source": [
    "data['Processed_Text']"
   ]
  },
  {
   "cell_type": "code",
   "execution_count": 9,
   "metadata": {
    "colab": {
     "base_uri": "https://localhost:8080/"
    },
    "id": "T5vDyCcThhrX",
    "outputId": "7c5b2e42-be09-4a56-dcf6-50b9ca802ac9"
   },
   "outputs": [
    {
     "name": "stdout",
     "output_type": "stream",
     "text": [
      "(2000, 56435)\n"
     ]
    }
   ],
   "source": [
    "from sklearn.feature_extraction.text import TfidfVectorizer\n",
    "tfidf_vectorizer = TfidfVectorizer()\n",
    "X = tfidf_vectorizer.fit_transform(data['Processed_Text'])\n",
    "print(X.shape)"
   ]
  },
  {
   "cell_type": "code",
   "execution_count": 10,
   "metadata": {
    "colab": {
     "base_uri": "https://localhost:8080/"
    },
    "id": "bMdpQshBhrS7",
    "outputId": "c71003fa-ccd3-4541-a774-fc1defbee0ac"
   },
   "outputs": [
    {
     "data": {
      "text/plain": [
       "(<1600x56435 sparse matrix of type '<class 'numpy.float64'>'\n",
       " \twith 218524 stored elements in Compressed Sparse Row format>,\n",
       " <400x56435 sparse matrix of type '<class 'numpy.float64'>'\n",
       " \twith 49590 stored elements in Compressed Sparse Row format>,\n",
       " 968          rec.sport.baseball\n",
       " 240     comp.os.ms-windows.misc\n",
       " 819             rec.motorcycles\n",
       " 692                misc.forsale\n",
       " 420       comp.sys.mac.hardware\n",
       "                  ...           \n",
       " 1130                  sci.crypt\n",
       " 1294            sci.electronics\n",
       " 860             rec.motorcycles\n",
       " 1459                  sci.space\n",
       " 1126                  sci.crypt\n",
       " Name: Labels, Length: 1600, dtype: object,\n",
       " 1860          talk.politics.misc\n",
       " 353     comp.sys.ibm.pc.hardware\n",
       " 1333                     sci.med\n",
       " 905           rec.sport.baseball\n",
       " 1289             sci.electronics\n",
       "                   ...           \n",
       " 965           rec.sport.baseball\n",
       " 1284             sci.electronics\n",
       " 1739       talk.politics.mideast\n",
       " 261      comp.os.ms-windows.misc\n",
       " 535               comp.windows.x\n",
       " Name: Labels, Length: 400, dtype: object)"
      ]
     },
     "execution_count": 10,
     "metadata": {},
     "output_type": "execute_result"
    }
   ],
   "source": [
    "# Step 2: Naive Bayes Model for Text Classification\n",
    "from sklearn.model_selection import train_test_split\n",
    "X_train, X_test, y_train, y_test = train_test_split(X, data['Labels'], test_size=0.2, random_state=42)\n",
    "X_train, X_test, y_train, y_test"
   ]
  },
  {
   "cell_type": "code",
   "execution_count": 11,
   "metadata": {
    "colab": {
     "base_uri": "https://localhost:8080/"
    },
    "id": "GRXwoP_rhyQR",
    "outputId": "9d9cff1e-fc9f-42e1-f595-4c9c3b845192"
   },
   "outputs": [
    {
     "name": "stdout",
     "output_type": "stream",
     "text": [
      "Training set size: (1600, 56435)\n",
      "Test set size: (400, 56435)\n"
     ]
    }
   ],
   "source": [
    "print(f\"Training set size: {X_train.shape}\")\n",
    "print(f\"Test set size: {X_test.shape}\")"
   ]
  },
  {
   "cell_type": "code",
   "execution_count": 12,
   "metadata": {
    "colab": {
     "base_uri": "https://localhost:8080/",
     "height": 74
    },
    "id": "LP8oLpzfh7rs",
    "outputId": "5223a0cd-160e-4f15-8f11-1dc98e942fca"
   },
   "outputs": [
    {
     "data": {
      "text/html": [
       "<style>#sk-container-id-1 {\n",
       "  /* Definition of color scheme common for light and dark mode */\n",
       "  --sklearn-color-text: black;\n",
       "  --sklearn-color-line: gray;\n",
       "  /* Definition of color scheme for unfitted estimators */\n",
       "  --sklearn-color-unfitted-level-0: #fff5e6;\n",
       "  --sklearn-color-unfitted-level-1: #f6e4d2;\n",
       "  --sklearn-color-unfitted-level-2: #ffe0b3;\n",
       "  --sklearn-color-unfitted-level-3: chocolate;\n",
       "  /* Definition of color scheme for fitted estimators */\n",
       "  --sklearn-color-fitted-level-0: #f0f8ff;\n",
       "  --sklearn-color-fitted-level-1: #d4ebff;\n",
       "  --sklearn-color-fitted-level-2: #b3dbfd;\n",
       "  --sklearn-color-fitted-level-3: cornflowerblue;\n",
       "\n",
       "  /* Specific color for light theme */\n",
       "  --sklearn-color-text-on-default-background: var(--sg-text-color, var(--theme-code-foreground, var(--jp-content-font-color1, black)));\n",
       "  --sklearn-color-background: var(--sg-background-color, var(--theme-background, var(--jp-layout-color0, white)));\n",
       "  --sklearn-color-border-box: var(--sg-text-color, var(--theme-code-foreground, var(--jp-content-font-color1, black)));\n",
       "  --sklearn-color-icon: #696969;\n",
       "\n",
       "  @media (prefers-color-scheme: dark) {\n",
       "    /* Redefinition of color scheme for dark theme */\n",
       "    --sklearn-color-text-on-default-background: var(--sg-text-color, var(--theme-code-foreground, var(--jp-content-font-color1, white)));\n",
       "    --sklearn-color-background: var(--sg-background-color, var(--theme-background, var(--jp-layout-color0, #111)));\n",
       "    --sklearn-color-border-box: var(--sg-text-color, var(--theme-code-foreground, var(--jp-content-font-color1, white)));\n",
       "    --sklearn-color-icon: #878787;\n",
       "  }\n",
       "}\n",
       "\n",
       "#sk-container-id-1 {\n",
       "  color: var(--sklearn-color-text);\n",
       "}\n",
       "\n",
       "#sk-container-id-1 pre {\n",
       "  padding: 0;\n",
       "}\n",
       "\n",
       "#sk-container-id-1 input.sk-hidden--visually {\n",
       "  border: 0;\n",
       "  clip: rect(1px 1px 1px 1px);\n",
       "  clip: rect(1px, 1px, 1px, 1px);\n",
       "  height: 1px;\n",
       "  margin: -1px;\n",
       "  overflow: hidden;\n",
       "  padding: 0;\n",
       "  position: absolute;\n",
       "  width: 1px;\n",
       "}\n",
       "\n",
       "#sk-container-id-1 div.sk-dashed-wrapped {\n",
       "  border: 1px dashed var(--sklearn-color-line);\n",
       "  margin: 0 0.4em 0.5em 0.4em;\n",
       "  box-sizing: border-box;\n",
       "  padding-bottom: 0.4em;\n",
       "  background-color: var(--sklearn-color-background);\n",
       "}\n",
       "\n",
       "#sk-container-id-1 div.sk-container {\n",
       "  /* jupyter's `normalize.less` sets `[hidden] { display: none; }`\n",
       "     but bootstrap.min.css set `[hidden] { display: none !important; }`\n",
       "     so we also need the `!important` here to be able to override the\n",
       "     default hidden behavior on the sphinx rendered scikit-learn.org.\n",
       "     See: https://github.com/scikit-learn/scikit-learn/issues/21755 */\n",
       "  display: inline-block !important;\n",
       "  position: relative;\n",
       "}\n",
       "\n",
       "#sk-container-id-1 div.sk-text-repr-fallback {\n",
       "  display: none;\n",
       "}\n",
       "\n",
       "div.sk-parallel-item,\n",
       "div.sk-serial,\n",
       "div.sk-item {\n",
       "  /* draw centered vertical line to link estimators */\n",
       "  background-image: linear-gradient(var(--sklearn-color-text-on-default-background), var(--sklearn-color-text-on-default-background));\n",
       "  background-size: 2px 100%;\n",
       "  background-repeat: no-repeat;\n",
       "  background-position: center center;\n",
       "}\n",
       "\n",
       "/* Parallel-specific style estimator block */\n",
       "\n",
       "#sk-container-id-1 div.sk-parallel-item::after {\n",
       "  content: \"\";\n",
       "  width: 100%;\n",
       "  border-bottom: 2px solid var(--sklearn-color-text-on-default-background);\n",
       "  flex-grow: 1;\n",
       "}\n",
       "\n",
       "#sk-container-id-1 div.sk-parallel {\n",
       "  display: flex;\n",
       "  align-items: stretch;\n",
       "  justify-content: center;\n",
       "  background-color: var(--sklearn-color-background);\n",
       "  position: relative;\n",
       "}\n",
       "\n",
       "#sk-container-id-1 div.sk-parallel-item {\n",
       "  display: flex;\n",
       "  flex-direction: column;\n",
       "}\n",
       "\n",
       "#sk-container-id-1 div.sk-parallel-item:first-child::after {\n",
       "  align-self: flex-end;\n",
       "  width: 50%;\n",
       "}\n",
       "\n",
       "#sk-container-id-1 div.sk-parallel-item:last-child::after {\n",
       "  align-self: flex-start;\n",
       "  width: 50%;\n",
       "}\n",
       "\n",
       "#sk-container-id-1 div.sk-parallel-item:only-child::after {\n",
       "  width: 0;\n",
       "}\n",
       "\n",
       "/* Serial-specific style estimator block */\n",
       "\n",
       "#sk-container-id-1 div.sk-serial {\n",
       "  display: flex;\n",
       "  flex-direction: column;\n",
       "  align-items: center;\n",
       "  background-color: var(--sklearn-color-background);\n",
       "  padding-right: 1em;\n",
       "  padding-left: 1em;\n",
       "}\n",
       "\n",
       "\n",
       "/* Toggleable style: style used for estimator/Pipeline/ColumnTransformer box that is\n",
       "clickable and can be expanded/collapsed.\n",
       "- Pipeline and ColumnTransformer use this feature and define the default style\n",
       "- Estimators will overwrite some part of the style using the `sk-estimator` class\n",
       "*/\n",
       "\n",
       "/* Pipeline and ColumnTransformer style (default) */\n",
       "\n",
       "#sk-container-id-1 div.sk-toggleable {\n",
       "  /* Default theme specific background. It is overwritten whether we have a\n",
       "  specific estimator or a Pipeline/ColumnTransformer */\n",
       "  background-color: var(--sklearn-color-background);\n",
       "}\n",
       "\n",
       "/* Toggleable label */\n",
       "#sk-container-id-1 label.sk-toggleable__label {\n",
       "  cursor: pointer;\n",
       "  display: block;\n",
       "  width: 100%;\n",
       "  margin-bottom: 0;\n",
       "  padding: 0.5em;\n",
       "  box-sizing: border-box;\n",
       "  text-align: center;\n",
       "}\n",
       "\n",
       "#sk-container-id-1 label.sk-toggleable__label-arrow:before {\n",
       "  /* Arrow on the left of the label */\n",
       "  content: \"▸\";\n",
       "  float: left;\n",
       "  margin-right: 0.25em;\n",
       "  color: var(--sklearn-color-icon);\n",
       "}\n",
       "\n",
       "#sk-container-id-1 label.sk-toggleable__label-arrow:hover:before {\n",
       "  color: var(--sklearn-color-text);\n",
       "}\n",
       "\n",
       "/* Toggleable content - dropdown */\n",
       "\n",
       "#sk-container-id-1 div.sk-toggleable__content {\n",
       "  max-height: 0;\n",
       "  max-width: 0;\n",
       "  overflow: hidden;\n",
       "  text-align: left;\n",
       "  /* unfitted */\n",
       "  background-color: var(--sklearn-color-unfitted-level-0);\n",
       "}\n",
       "\n",
       "#sk-container-id-1 div.sk-toggleable__content.fitted {\n",
       "  /* fitted */\n",
       "  background-color: var(--sklearn-color-fitted-level-0);\n",
       "}\n",
       "\n",
       "#sk-container-id-1 div.sk-toggleable__content pre {\n",
       "  margin: 0.2em;\n",
       "  border-radius: 0.25em;\n",
       "  color: var(--sklearn-color-text);\n",
       "  /* unfitted */\n",
       "  background-color: var(--sklearn-color-unfitted-level-0);\n",
       "}\n",
       "\n",
       "#sk-container-id-1 div.sk-toggleable__content.fitted pre {\n",
       "  /* unfitted */\n",
       "  background-color: var(--sklearn-color-fitted-level-0);\n",
       "}\n",
       "\n",
       "#sk-container-id-1 input.sk-toggleable__control:checked~div.sk-toggleable__content {\n",
       "  /* Expand drop-down */\n",
       "  max-height: 200px;\n",
       "  max-width: 100%;\n",
       "  overflow: auto;\n",
       "}\n",
       "\n",
       "#sk-container-id-1 input.sk-toggleable__control:checked~label.sk-toggleable__label-arrow:before {\n",
       "  content: \"▾\";\n",
       "}\n",
       "\n",
       "/* Pipeline/ColumnTransformer-specific style */\n",
       "\n",
       "#sk-container-id-1 div.sk-label input.sk-toggleable__control:checked~label.sk-toggleable__label {\n",
       "  color: var(--sklearn-color-text);\n",
       "  background-color: var(--sklearn-color-unfitted-level-2);\n",
       "}\n",
       "\n",
       "#sk-container-id-1 div.sk-label.fitted input.sk-toggleable__control:checked~label.sk-toggleable__label {\n",
       "  background-color: var(--sklearn-color-fitted-level-2);\n",
       "}\n",
       "\n",
       "/* Estimator-specific style */\n",
       "\n",
       "/* Colorize estimator box */\n",
       "#sk-container-id-1 div.sk-estimator input.sk-toggleable__control:checked~label.sk-toggleable__label {\n",
       "  /* unfitted */\n",
       "  background-color: var(--sklearn-color-unfitted-level-2);\n",
       "}\n",
       "\n",
       "#sk-container-id-1 div.sk-estimator.fitted input.sk-toggleable__control:checked~label.sk-toggleable__label {\n",
       "  /* fitted */\n",
       "  background-color: var(--sklearn-color-fitted-level-2);\n",
       "}\n",
       "\n",
       "#sk-container-id-1 div.sk-label label.sk-toggleable__label,\n",
       "#sk-container-id-1 div.sk-label label {\n",
       "  /* The background is the default theme color */\n",
       "  color: var(--sklearn-color-text-on-default-background);\n",
       "}\n",
       "\n",
       "/* On hover, darken the color of the background */\n",
       "#sk-container-id-1 div.sk-label:hover label.sk-toggleable__label {\n",
       "  color: var(--sklearn-color-text);\n",
       "  background-color: var(--sklearn-color-unfitted-level-2);\n",
       "}\n",
       "\n",
       "/* Label box, darken color on hover, fitted */\n",
       "#sk-container-id-1 div.sk-label.fitted:hover label.sk-toggleable__label.fitted {\n",
       "  color: var(--sklearn-color-text);\n",
       "  background-color: var(--sklearn-color-fitted-level-2);\n",
       "}\n",
       "\n",
       "/* Estimator label */\n",
       "\n",
       "#sk-container-id-1 div.sk-label label {\n",
       "  font-family: monospace;\n",
       "  font-weight: bold;\n",
       "  display: inline-block;\n",
       "  line-height: 1.2em;\n",
       "}\n",
       "\n",
       "#sk-container-id-1 div.sk-label-container {\n",
       "  text-align: center;\n",
       "}\n",
       "\n",
       "/* Estimator-specific */\n",
       "#sk-container-id-1 div.sk-estimator {\n",
       "  font-family: monospace;\n",
       "  border: 1px dotted var(--sklearn-color-border-box);\n",
       "  border-radius: 0.25em;\n",
       "  box-sizing: border-box;\n",
       "  margin-bottom: 0.5em;\n",
       "  /* unfitted */\n",
       "  background-color: var(--sklearn-color-unfitted-level-0);\n",
       "}\n",
       "\n",
       "#sk-container-id-1 div.sk-estimator.fitted {\n",
       "  /* fitted */\n",
       "  background-color: var(--sklearn-color-fitted-level-0);\n",
       "}\n",
       "\n",
       "/* on hover */\n",
       "#sk-container-id-1 div.sk-estimator:hover {\n",
       "  /* unfitted */\n",
       "  background-color: var(--sklearn-color-unfitted-level-2);\n",
       "}\n",
       "\n",
       "#sk-container-id-1 div.sk-estimator.fitted:hover {\n",
       "  /* fitted */\n",
       "  background-color: var(--sklearn-color-fitted-level-2);\n",
       "}\n",
       "\n",
       "/* Specification for estimator info (e.g. \"i\" and \"?\") */\n",
       "\n",
       "/* Common style for \"i\" and \"?\" */\n",
       "\n",
       ".sk-estimator-doc-link,\n",
       "a:link.sk-estimator-doc-link,\n",
       "a:visited.sk-estimator-doc-link {\n",
       "  float: right;\n",
       "  font-size: smaller;\n",
       "  line-height: 1em;\n",
       "  font-family: monospace;\n",
       "  background-color: var(--sklearn-color-background);\n",
       "  border-radius: 1em;\n",
       "  height: 1em;\n",
       "  width: 1em;\n",
       "  text-decoration: none !important;\n",
       "  margin-left: 1ex;\n",
       "  /* unfitted */\n",
       "  border: var(--sklearn-color-unfitted-level-1) 1pt solid;\n",
       "  color: var(--sklearn-color-unfitted-level-1);\n",
       "}\n",
       "\n",
       ".sk-estimator-doc-link.fitted,\n",
       "a:link.sk-estimator-doc-link.fitted,\n",
       "a:visited.sk-estimator-doc-link.fitted {\n",
       "  /* fitted */\n",
       "  border: var(--sklearn-color-fitted-level-1) 1pt solid;\n",
       "  color: var(--sklearn-color-fitted-level-1);\n",
       "}\n",
       "\n",
       "/* On hover */\n",
       "div.sk-estimator:hover .sk-estimator-doc-link:hover,\n",
       ".sk-estimator-doc-link:hover,\n",
       "div.sk-label-container:hover .sk-estimator-doc-link:hover,\n",
       ".sk-estimator-doc-link:hover {\n",
       "  /* unfitted */\n",
       "  background-color: var(--sklearn-color-unfitted-level-3);\n",
       "  color: var(--sklearn-color-background);\n",
       "  text-decoration: none;\n",
       "}\n",
       "\n",
       "div.sk-estimator.fitted:hover .sk-estimator-doc-link.fitted:hover,\n",
       ".sk-estimator-doc-link.fitted:hover,\n",
       "div.sk-label-container:hover .sk-estimator-doc-link.fitted:hover,\n",
       ".sk-estimator-doc-link.fitted:hover {\n",
       "  /* fitted */\n",
       "  background-color: var(--sklearn-color-fitted-level-3);\n",
       "  color: var(--sklearn-color-background);\n",
       "  text-decoration: none;\n",
       "}\n",
       "\n",
       "/* Span, style for the box shown on hovering the info icon */\n",
       ".sk-estimator-doc-link span {\n",
       "  display: none;\n",
       "  z-index: 9999;\n",
       "  position: relative;\n",
       "  font-weight: normal;\n",
       "  right: .2ex;\n",
       "  padding: .5ex;\n",
       "  margin: .5ex;\n",
       "  width: min-content;\n",
       "  min-width: 20ex;\n",
       "  max-width: 50ex;\n",
       "  color: var(--sklearn-color-text);\n",
       "  box-shadow: 2pt 2pt 4pt #999;\n",
       "  /* unfitted */\n",
       "  background: var(--sklearn-color-unfitted-level-0);\n",
       "  border: .5pt solid var(--sklearn-color-unfitted-level-3);\n",
       "}\n",
       "\n",
       ".sk-estimator-doc-link.fitted span {\n",
       "  /* fitted */\n",
       "  background: var(--sklearn-color-fitted-level-0);\n",
       "  border: var(--sklearn-color-fitted-level-3);\n",
       "}\n",
       "\n",
       ".sk-estimator-doc-link:hover span {\n",
       "  display: block;\n",
       "}\n",
       "\n",
       "/* \"?\"-specific style due to the `<a>` HTML tag */\n",
       "\n",
       "#sk-container-id-1 a.estimator_doc_link {\n",
       "  float: right;\n",
       "  font-size: 1rem;\n",
       "  line-height: 1em;\n",
       "  font-family: monospace;\n",
       "  background-color: var(--sklearn-color-background);\n",
       "  border-radius: 1rem;\n",
       "  height: 1rem;\n",
       "  width: 1rem;\n",
       "  text-decoration: none;\n",
       "  /* unfitted */\n",
       "  color: var(--sklearn-color-unfitted-level-1);\n",
       "  border: var(--sklearn-color-unfitted-level-1) 1pt solid;\n",
       "}\n",
       "\n",
       "#sk-container-id-1 a.estimator_doc_link.fitted {\n",
       "  /* fitted */\n",
       "  border: var(--sklearn-color-fitted-level-1) 1pt solid;\n",
       "  color: var(--sklearn-color-fitted-level-1);\n",
       "}\n",
       "\n",
       "/* On hover */\n",
       "#sk-container-id-1 a.estimator_doc_link:hover {\n",
       "  /* unfitted */\n",
       "  background-color: var(--sklearn-color-unfitted-level-3);\n",
       "  color: var(--sklearn-color-background);\n",
       "  text-decoration: none;\n",
       "}\n",
       "\n",
       "#sk-container-id-1 a.estimator_doc_link.fitted:hover {\n",
       "  /* fitted */\n",
       "  background-color: var(--sklearn-color-fitted-level-3);\n",
       "}\n",
       "</style><div id=\"sk-container-id-1\" class=\"sk-top-container\"><div class=\"sk-text-repr-fallback\"><pre>BernoulliNB()</pre><b>In a Jupyter environment, please rerun this cell to show the HTML representation or trust the notebook. <br />On GitHub, the HTML representation is unable to render, please try loading this page with nbviewer.org.</b></div><div class=\"sk-container\" hidden><div class=\"sk-item\"><div class=\"sk-estimator fitted sk-toggleable\"><input class=\"sk-toggleable__control sk-hidden--visually\" id=\"sk-estimator-id-1\" type=\"checkbox\" checked><label for=\"sk-estimator-id-1\" class=\"sk-toggleable__label fitted sk-toggleable__label-arrow fitted\">&nbsp;&nbsp;BernoulliNB<a class=\"sk-estimator-doc-link fitted\" rel=\"noreferrer\" target=\"_blank\" href=\"https://scikit-learn.org/1.5/modules/generated/sklearn.naive_bayes.BernoulliNB.html\">?<span>Documentation for BernoulliNB</span></a><span class=\"sk-estimator-doc-link fitted\">i<span>Fitted</span></span></label><div class=\"sk-toggleable__content fitted\"><pre>BernoulliNB()</pre></div> </div></div></div></div>"
      ],
      "text/plain": [
       "BernoulliNB()"
      ]
     },
     "execution_count": 12,
     "metadata": {},
     "output_type": "execute_result"
    }
   ],
   "source": [
    "from sklearn.naive_bayes import BernoulliNB\n",
    "\n",
    "# Initialize the Naive Bayes classifier\n",
    "nb_classifier = BernoulliNB()\n",
    "\n",
    "# Train the model on the training set\n",
    "nb_classifier.fit(X_train, y_train)"
   ]
  },
  {
   "cell_type": "code",
   "execution_count": 13,
   "metadata": {
    "colab": {
     "base_uri": "https://localhost:8080/"
    },
    "id": "l-QP1fpFh-Uo",
    "outputId": "1e369127-000b-4b3d-e919-7ba21cd66cc8"
   },
   "outputs": [
    {
     "name": "stdout",
     "output_type": "stream",
     "text": [
      "['sci.electronics' 'sci.electronics' 'sci.electronics'\n",
      " 'rec.sport.baseball' 'sci.electronics' 'sci.electronics'\n",
      " 'rec.sport.baseball' 'sci.electronics' 'alt.atheism' 'sci.med'\n",
      " 'sci.electronics' 'sci.electronics' 'sci.crypt' 'misc.forsale'\n",
      " 'sci.electronics' 'sci.electronics' 'misc.forsale' 'misc.forsale'\n",
      " 'sci.electronics' 'alt.atheism' 'misc.forsale' 'sci.electronics'\n",
      " 'alt.atheism' 'rec.sport.hockey' 'alt.atheism' 'sci.crypt'\n",
      " 'sci.electronics' 'rec.sport.baseball' 'sci.electronics' 'alt.atheism'\n",
      " 'misc.forsale' 'rec.sport.hockey' 'sci.electronics' 'rec.sport.baseball'\n",
      " 'sci.electronics' 'sci.electronics' 'sci.med' 'misc.forsale'\n",
      " 'misc.forsale' 'sci.electronics' 'sci.electronics' 'alt.atheism'\n",
      " 'sci.electronics' 'sci.electronics' 'sci.electronics' 'rec.motorcycles'\n",
      " 'sci.electronics' 'rec.motorcycles' 'misc.forsale' 'sci.electronics'\n",
      " 'misc.forsale' 'sci.electronics' 'sci.electronics' 'sci.electronics'\n",
      " 'rec.sport.baseball' 'misc.forsale' 'sci.electronics' 'sci.electronics'\n",
      " 'sci.crypt' 'sci.electronics' 'sci.electronics' 'misc.forsale'\n",
      " 'talk.politics.misc' 'rec.sport.hockey' 'sci.electronics'\n",
      " 'sci.electronics' 'misc.forsale' 'sci.electronics' 'sci.electronics'\n",
      " 'sci.electronics' 'sci.electronics' 'sci.electronics' 'sci.med'\n",
      " 'rec.sport.hockey' 'misc.forsale' 'sci.electronics' 'sci.electronics'\n",
      " 'sci.electronics' 'sci.electronics' 'sci.electronics' 'sci.electronics'\n",
      " 'misc.forsale' 'sci.electronics' 'sci.electronics' 'sci.electronics'\n",
      " 'sci.electronics' 'sci.electronics' 'sci.electronics' 'misc.forsale'\n",
      " 'sci.electronics' 'sci.electronics' 'talk.politics.mideast'\n",
      " 'misc.forsale' 'comp.graphics' 'talk.politics.misc' 'sci.electronics'\n",
      " 'misc.forsale' 'sci.electronics' 'sci.electronics' 'talk.politics.misc'\n",
      " 'misc.forsale' 'rec.sport.baseball' 'misc.forsale' 'sci.med'\n",
      " 'sci.electronics' 'rec.motorcycles' 'misc.forsale' 'sci.electronics'\n",
      " 'misc.forsale' 'sci.electronics' 'rec.autos' 'misc.forsale'\n",
      " 'rec.sport.hockey' 'sci.electronics' 'sci.electronics' 'sci.crypt'\n",
      " 'sci.electronics' 'rec.sport.baseball' 'sci.electronics'\n",
      " 'sci.electronics' 'sci.electronics' 'rec.sport.hockey' 'sci.crypt'\n",
      " 'sci.electronics' 'misc.forsale' 'sci.electronics' 'sci.electronics'\n",
      " 'rec.motorcycles' 'sci.electronics' 'misc.forsale' 'rec.motorcycles'\n",
      " 'sci.electronics' 'rec.autos' 'sci.electronics' 'rec.motorcycles'\n",
      " 'sci.electronics' 'alt.atheism' 'alt.atheism' 'sci.electronics'\n",
      " 'soc.religion.christian' 'sci.med' 'misc.forsale' 'sci.electronics'\n",
      " 'rec.motorcycles' 'misc.forsale' 'sci.electronics' 'misc.forsale'\n",
      " 'sci.electronics' 'talk.politics.misc' 'sci.electronics'\n",
      " 'sci.electronics' 'misc.forsale' 'misc.forsale' 'sci.crypt'\n",
      " 'sci.electronics' 'misc.forsale' 'sci.electronics' 'sci.electronics'\n",
      " 'sci.electronics' 'talk.politics.misc' 'misc.forsale' 'rec.motorcycles'\n",
      " 'comp.graphics' 'sci.electronics' 'sci.electronics' 'sci.electronics'\n",
      " 'alt.atheism' 'sci.electronics' 'misc.forsale' 'talk.politics.mideast'\n",
      " 'sci.electronics' 'misc.forsale' 'sci.electronics' 'misc.forsale'\n",
      " 'sci.electronics' 'sci.med' 'sci.electronics' 'sci.electronics'\n",
      " 'rec.motorcycles' 'misc.forsale' 'sci.electronics' 'talk.politics.misc'\n",
      " 'talk.politics.misc' 'sci.crypt' 'rec.motorcycles' 'rec.autos'\n",
      " 'sci.electronics' 'sci.electronics' 'misc.forsale' 'sci.electronics'\n",
      " 'rec.autos' 'sci.electronics' 'sci.med' 'sci.electronics' 'alt.atheism'\n",
      " 'sci.electronics' 'sci.electronics' 'rec.motorcycles' 'misc.forsale'\n",
      " 'alt.atheism' 'rec.motorcycles' 'misc.forsale' 'sci.electronics'\n",
      " 'rec.autos' 'sci.electronics' 'misc.forsale' 'sci.electronics'\n",
      " 'sci.electronics' 'rec.sport.hockey' 'sci.electronics' 'sci.electronics'\n",
      " 'alt.atheism' 'misc.forsale' 'sci.electronics' 'rec.autos' 'alt.atheism'\n",
      " 'sci.electronics' 'sci.electronics' 'sci.electronics' 'sci.electronics'\n",
      " 'rec.sport.baseball' 'sci.electronics' 'sci.electronics'\n",
      " 'sci.electronics' 'sci.electronics' 'alt.atheism' 'sci.electronics'\n",
      " 'sci.electronics' 'sci.electronics' 'sci.electronics' 'alt.atheism'\n",
      " 'sci.electronics' 'sci.electronics' 'misc.forsale' 'sci.electronics'\n",
      " 'sci.electronics' 'rec.sport.hockey' 'rec.motorcycles' 'sci.med'\n",
      " 'sci.electronics' 'sci.electronics' 'soc.religion.christian'\n",
      " 'sci.electronics' 'rec.sport.baseball' 'sci.med' 'misc.forsale'\n",
      " 'rec.motorcycles' 'talk.religion.misc' 'rec.motorcycles' 'comp.graphics'\n",
      " 'rec.sport.hockey' 'misc.forsale' 'sci.crypt' 'sci.electronics'\n",
      " 'sci.electronics' 'rec.sport.hockey' 'misc.forsale' 'misc.forsale'\n",
      " 'sci.electronics' 'misc.forsale' 'alt.atheism' 'alt.atheism'\n",
      " 'alt.atheism' 'alt.atheism' 'rec.sport.hockey' 'sci.electronics'\n",
      " 'misc.forsale' 'sci.electronics' 'sci.electronics' 'rec.sport.hockey'\n",
      " 'sci.med' 'alt.atheism' 'sci.electronics' 'misc.forsale' 'alt.atheism'\n",
      " 'alt.atheism' 'sci.electronics' 'sci.electronics' 'sci.electronics'\n",
      " 'sci.electronics' 'alt.atheism' 'sci.electronics' 'misc.forsale'\n",
      " 'sci.med' 'misc.forsale' 'sci.electronics' 'comp.os.ms-windows.misc'\n",
      " 'alt.atheism' 'sci.electronics' 'sci.electronics' 'sci.electronics'\n",
      " 'misc.forsale' 'misc.forsale' 'talk.politics.misc' 'sci.electronics'\n",
      " 'misc.forsale' 'alt.atheism' 'talk.politics.mideast' 'talk.politics.misc'\n",
      " 'sci.electronics' 'sci.electronics' 'alt.atheism' 'sci.electronics'\n",
      " 'misc.forsale' 'rec.autos' 'alt.atheism' 'sci.electronics' 'sci.med'\n",
      " 'rec.sport.baseball' 'alt.atheism' 'rec.sport.hockey' 'sci.electronics'\n",
      " 'sci.electronics' 'rec.sport.baseball' 'rec.sport.hockey' 'misc.forsale'\n",
      " 'soc.religion.christian' 'soc.religion.christian' 'sci.electronics'\n",
      " 'soc.religion.christian' 'alt.atheism' 'sci.electronics' 'misc.forsale'\n",
      " 'sci.electronics' 'rec.sport.baseball' 'sci.electronics' 'alt.atheism'\n",
      " 'misc.forsale' 'rec.motorcycles' 'sci.electronics' 'sci.electronics'\n",
      " 'misc.forsale' 'soc.religion.christian' 'misc.forsale' 'sci.electronics'\n",
      " 'sci.electronics' 'sci.electronics' 'sci.electronics' 'sci.crypt'\n",
      " 'sci.electronics' 'misc.forsale' 'sci.electronics' 'alt.atheism'\n",
      " 'rec.motorcycles' 'misc.forsale' 'sci.electronics' 'sci.electronics'\n",
      " 'alt.atheism' 'alt.atheism' 'rec.sport.baseball' 'sci.electronics'\n",
      " 'misc.forsale' 'misc.forsale' 'sci.electronics' 'sci.electronics'\n",
      " 'sci.electronics' 'sci.electronics' 'sci.electronics' 'sci.med'\n",
      " 'sci.crypt' 'sci.electronics' 'sci.electronics' 'rec.autos'\n",
      " 'misc.forsale' 'sci.electronics' 'sci.electronics' 'misc.forsale'\n",
      " 'sci.electronics' 'sci.electronics' 'sci.electronics'\n",
      " 'soc.religion.christian' 'misc.forsale' 'sci.electronics'\n",
      " 'sci.electronics' 'soc.religion.christian' 'alt.atheism'\n",
      " 'sci.electronics' 'talk.politics.mideast' 'sci.electronics'\n",
      " 'sci.electronics' 'sci.electronics' 'sci.electronics' 'sci.electronics'\n",
      " 'talk.politics.guns' 'sci.electronics' 'misc.forsale' 'sci.electronics'\n",
      " 'sci.electronics' 'misc.forsale' 'sci.electronics' 'alt.atheism'\n",
      " 'sci.electronics' 'sci.electronics' 'misc.forsale' 'misc.forsale'\n",
      " 'rec.sport.baseball' 'sci.electronics' 'sci.electronics' 'misc.forsale'\n",
      " 'misc.forsale']\n"
     ]
    }
   ],
   "source": [
    "y_pred = nb_classifier.predict(X_test)\n",
    "print(y_pred)"
   ]
  },
  {
   "cell_type": "code",
   "execution_count": 14,
   "metadata": {},
   "outputs": [
    {
     "name": "stdout",
     "output_type": "stream",
     "text": [
      "Requirement already satisfied: textblob in c:\\users\\lokes\\anaconda3\\lib\\site-packages (0.18.0.post0)Note: you may need to restart the kernel to use updated packages.\n",
      "\n",
      "Requirement already satisfied: nltk>=3.8 in c:\\users\\lokes\\appdata\\roaming\\python\\python310\\site-packages (from textblob) (3.9.1)\n",
      "Requirement already satisfied: click in c:\\users\\lokes\\appdata\\roaming\\python\\python310\\site-packages (from nltk>=3.8->textblob) (8.1.7)\n",
      "Requirement already satisfied: joblib in c:\\users\\lokes\\appdata\\roaming\\python\\python310\\site-packages (from nltk>=3.8->textblob) (1.4.2)\n",
      "Requirement already satisfied: regex>=2021.8.3 in c:\\users\\lokes\\appdata\\roaming\\python\\python310\\site-packages (from nltk>=3.8->textblob) (2023.6.3)\n",
      "Requirement already satisfied: tqdm in c:\\users\\lokes\\appdata\\roaming\\python\\python310\\site-packages (from nltk>=3.8->textblob) (4.66.5)\n",
      "Requirement already satisfied: colorama in c:\\users\\lokes\\appdata\\roaming\\python\\python310\\site-packages (from click->nltk>=3.8->textblob) (0.4.5)\n"
     ]
    },
    {
     "name": "stderr",
     "output_type": "stream",
     "text": [
      "WARNING: Ignoring invalid distribution -atplotlib (c:\\users\\lokes\\anaconda3\\lib\\site-packages)\n",
      "WARNING: Error parsing dependencies of scikit-learn: [Errno 2] No such file or directory: 'c:\\\\users\\\\lokes\\\\anaconda3\\\\lib\\\\site-packages\\\\scikit_learn-1.5.1.dist-info\\\\METADATA'\n",
      "WARNING: Ignoring invalid distribution -atplotlib (c:\\users\\lokes\\anaconda3\\lib\\site-packages)\n",
      "WARNING: Ignoring invalid distribution -atplotlib (c:\\users\\lokes\\anaconda3\\lib\\site-packages)\n"
     ]
    }
   ],
   "source": [
    "pip install textblob"
   ]
  },
  {
   "cell_type": "code",
   "execution_count": 15,
   "metadata": {
    "colab": {
     "base_uri": "https://localhost:8080/"
    },
    "id": "kdUTyn6ziCZd",
    "outputId": "9002a594-0dd8-41e8-e1df-f702dfab1c24"
   },
   "outputs": [
    {
     "data": {
      "text/plain": [
       "0       positive\n",
       "1       negative\n",
       "2       positive\n",
       "3       positive\n",
       "4       positive\n",
       "          ...   \n",
       "1995    positive\n",
       "1996    positive\n",
       "1997    positive\n",
       "1998    positive\n",
       "1999    positive\n",
       "Name: Sentiment, Length: 2000, dtype: object"
      ]
     },
     "execution_count": 15,
     "metadata": {},
     "output_type": "execute_result"
    }
   ],
   "source": [
    "# Step 3: Sentiment Analysis\n",
    "\n",
    "from textblob import TextBlob\n",
    "def get_sentiment(text):\n",
    "    analysis = TextBlob(text)\n",
    "    if analysis.sentiment.polarity > 0:\n",
    "        return 'positive'\n",
    "    elif analysis.sentiment.polarity < 0:\n",
    "        return 'negative'\n",
    "    else:\n",
    "        return 'neutral'\n",
    "\n",
    "data['Sentiment'] = data['Data'].apply(get_sentiment)\n",
    "data['Sentiment']"
   ]
  },
  {
   "cell_type": "code",
   "execution_count": 16,
   "metadata": {
    "colab": {
     "base_uri": "https://localhost:8080/"
    },
    "id": "A49V5WSaiL1t",
    "outputId": "8c037a3f-4934-4747-f5c2-3590f1ad5055"
   },
   "outputs": [
    {
     "name": "stdout",
     "output_type": "stream",
     "text": [
      "Sentiment distribution:\n",
      "positive    1543\n",
      "negative     457\n",
      "Name: Sentiment, dtype: int64\n"
     ]
    }
   ],
   "source": [
    "# Display the distribution of sentiments\n",
    "sentiment_distribution = data['Sentiment'].value_counts()\n",
    "print(f\"Sentiment distribution:\\n{sentiment_distribution}\")"
   ]
  },
  {
   "cell_type": "code",
   "execution_count": 17,
   "metadata": {
    "colab": {
     "base_uri": "https://localhost:8080/"
    },
    "id": "-2wHn5HBiZOt",
    "outputId": "7fe765ad-4242-4d80-a9a0-0ed0d76d56a6"
   },
   "outputs": [
    {
     "name": "stdout",
     "output_type": "stream",
     "text": [
      "Sentiment distribution across categories:\n",
      "Sentiment                 negative  positive\n",
      "Labels                                      \n",
      "alt.atheism                     23        77\n",
      "comp.graphics                   24        76\n",
      "comp.os.ms-windows.misc         22        78\n",
      "comp.sys.ibm.pc.hardware        20        80\n",
      "comp.sys.mac.hardware           24        76\n",
      "comp.windows.x                  27        73\n",
      "misc.forsale                    16        84\n",
      "rec.autos                       17        83\n",
      "rec.motorcycles                 26        74\n",
      "rec.sport.baseball              29        71\n",
      "rec.sport.hockey                34        66\n",
      "sci.crypt                       19        81\n",
      "sci.electronics                 19        81\n",
      "sci.med                         29        71\n",
      "sci.space                       27        73\n",
      "soc.religion.christian          13        87\n",
      "talk.politics.guns              30        70\n",
      "talk.politics.mideast           22        78\n",
      "talk.politics.misc              22        78\n",
      "talk.religion.misc              14        86\n"
     ]
    }
   ],
   "source": [
    "# Examine the distribution of sentiments across different categories\n",
    "sentiment_category_distribution = data.groupby('Labels')['Sentiment'].value_counts().unstack().fillna(0)\n",
    "print(f\"Sentiment distribution across categories:\\n{sentiment_category_distribution}\")"
   ]
  },
  {
   "cell_type": "code",
   "execution_count": 21,
   "metadata": {
    "colab": {
     "base_uri": "https://localhost:8080/"
    },
    "id": "NTH1ZIlviZ_8",
    "outputId": "abb08aff-abba-46e9-ebb6-c4c797a569ca"
   },
   "outputs": [
    {
     "name": "stdout",
     "output_type": "stream",
     "text": [
      "Accuracy: 0.315\n"
     ]
    }
   ],
   "source": [
    "# Step 4: Evaluation\n",
    "\n",
    "from sklearn.metrics import accuracy_score, precision_score, recall_score, f1_score, classification_report\n",
    "accuracy = accuracy_score(y_test, y_pred)\n",
    "print(f\"Accuracy: {accuracy}\")"
   ]
  },
  {
   "cell_type": "code",
   "execution_count": 22,
   "metadata": {
    "colab": {
     "base_uri": "https://localhost:8080/"
    },
    "id": "MyajYUFwig7-",
    "outputId": "8d08ebde-68f9-4963-f721-57617e0aa483"
   },
   "outputs": [
    {
     "name": "stdout",
     "output_type": "stream",
     "text": [
      "Precision: 0.5770478855509815\n",
      "Recall: 0.315\n",
      "F1-score: 0.3038307698661833\n"
     ]
    },
    {
     "name": "stderr",
     "output_type": "stream",
     "text": [
      "C:\\Users\\lokes\\anaconda3\\lib\\site-packages\\sklearn\\metrics\\_classification.py:1531: UndefinedMetricWarning: Precision is ill-defined and being set to 0.0 in labels with no predicted samples. Use `zero_division` parameter to control this behavior.\n",
      "  _warn_prf(average, modifier, f\"{metric.capitalize()} is\", len(result))\n"
     ]
    }
   ],
   "source": [
    "# Calculate precision, recall, and F1-score\n",
    "precision = precision_score(y_test, y_pred, average='weighted')\n",
    "recall = recall_score(y_test, y_pred, average='weighted')\n",
    "f1 = f1_score(y_test, y_pred, average='weighted')\n",
    "print(f\"Precision: {precision}\")\n",
    "print(f\"Recall: {recall}\")\n",
    "print(f\"F1-score: {f1}\")"
   ]
  },
  {
   "cell_type": "code",
   "execution_count": 23,
   "metadata": {
    "colab": {
     "base_uri": "https://localhost:8080/"
    },
    "id": "Yat2ebkjiguN",
    "outputId": "6310e2b7-99dc-4848-bd43-f26b50542506"
   },
   "outputs": [
    {
     "name": "stdout",
     "output_type": "stream",
     "text": [
      "Classification Report:\n",
      "                          precision    recall  f1-score   support\n",
      "\n",
      "             alt.atheism       0.29      0.56      0.38        18\n",
      "           comp.graphics       0.33      0.06      0.10        18\n",
      " comp.os.ms-windows.misc       1.00      0.05      0.09        22\n",
      "comp.sys.ibm.pc.hardware       0.00      0.00      0.00        25\n",
      "   comp.sys.mac.hardware       0.00      0.00      0.00        21\n",
      "          comp.windows.x       0.00      0.00      0.00        25\n",
      "            misc.forsale       0.21      0.83      0.33        18\n",
      "               rec.autos       0.88      0.39      0.54        18\n",
      "         rec.motorcycles       0.82      0.88      0.85        16\n",
      "      rec.sport.baseball       1.00      0.78      0.88        18\n",
      "        rec.sport.hockey       0.93      0.87      0.90        15\n",
      "               sci.crypt       0.80      0.42      0.55        19\n",
      "         sci.electronics       0.07      0.88      0.14        16\n",
      "                 sci.med       0.92      0.71      0.80        17\n",
      "               sci.space       0.00      0.00      0.00        21\n",
      "  soc.religion.christian       1.00      0.35      0.52        23\n",
      "      talk.politics.guns       1.00      0.04      0.07        28\n",
      "   talk.politics.mideast       1.00      0.20      0.33        20\n",
      "      talk.politics.misc       0.33      0.17      0.22        18\n",
      "      talk.religion.misc       1.00      0.04      0.08        24\n",
      "\n",
      "                accuracy                           0.32       400\n",
      "               macro avg       0.58      0.36      0.34       400\n",
      "            weighted avg       0.58      0.32      0.30       400\n",
      "\n"
     ]
    },
    {
     "name": "stderr",
     "output_type": "stream",
     "text": [
      "C:\\Users\\lokes\\anaconda3\\lib\\site-packages\\sklearn\\metrics\\_classification.py:1531: UndefinedMetricWarning: Precision is ill-defined and being set to 0.0 in labels with no predicted samples. Use `zero_division` parameter to control this behavior.\n",
      "  _warn_prf(average, modifier, f\"{metric.capitalize()} is\", len(result))\n",
      "C:\\Users\\lokes\\anaconda3\\lib\\site-packages\\sklearn\\metrics\\_classification.py:1531: UndefinedMetricWarning: Precision is ill-defined and being set to 0.0 in labels with no predicted samples. Use `zero_division` parameter to control this behavior.\n",
      "  _warn_prf(average, modifier, f\"{metric.capitalize()} is\", len(result))\n",
      "C:\\Users\\lokes\\anaconda3\\lib\\site-packages\\sklearn\\metrics\\_classification.py:1531: UndefinedMetricWarning: Precision is ill-defined and being set to 0.0 in labels with no predicted samples. Use `zero_division` parameter to control this behavior.\n",
      "  _warn_prf(average, modifier, f\"{metric.capitalize()} is\", len(result))\n"
     ]
    }
   ],
   "source": [
    "# Display the classification report\n",
    "classification_report = classification_report(y_test, y_pred)\n",
    "print(f\"Classification Report:\\n{classification_report}\")"
   ]
  },
  {
   "cell_type": "code",
   "execution_count": 24,
   "metadata": {
    "colab": {
     "base_uri": "https://localhost:8080/"
    },
    "id": "ynvVo_SVik6p",
    "outputId": "9bda5453-b1bd-4540-82d3-6677e9316448"
   },
   "outputs": [
    {
     "name": "stdout",
     "output_type": "stream",
     "text": [
      "Sentiment distribution:\n",
      "positive    1543\n",
      "negative     457\n",
      "Name: Sentiment, dtype: int64\n",
      "Sentiment distribution across categories:\n",
      "Sentiment                 negative  positive\n",
      "Labels                                      \n",
      "alt.atheism                     23        77\n",
      "comp.graphics                   24        76\n",
      "comp.os.ms-windows.misc         22        78\n",
      "comp.sys.ibm.pc.hardware        20        80\n",
      "comp.sys.mac.hardware           24        76\n",
      "comp.windows.x                  27        73\n",
      "misc.forsale                    16        84\n",
      "rec.autos                       17        83\n",
      "rec.motorcycles                 26        74\n",
      "rec.sport.baseball              29        71\n",
      "rec.sport.hockey                34        66\n",
      "sci.crypt                       19        81\n",
      "sci.electronics                 19        81\n",
      "sci.med                         29        71\n",
      "sci.space                       27        73\n",
      "soc.religion.christian          13        87\n",
      "talk.politics.guns              30        70\n",
      "talk.politics.mideast           22        78\n",
      "talk.politics.misc              22        78\n",
      "talk.religion.misc              14        86\n",
      "The sentiment analysis reveals the general sentiment expressed in the blog posts. We observe that...\n"
     ]
    }
   ],
   "source": [
    "# Reflect on the sentiment analysis results\n",
    "print(f\"Sentiment distribution:\\n{sentiment_distribution}\")\n",
    "print(f\"Sentiment distribution across categories:\\n{sentiment_category_distribution}\")\n",
    "\n",
    "# Discuss implications\n",
    "print(\"The sentiment analysis reveals the general sentiment expressed in the blog posts. We observe that...\")\n"
   ]
  },
  {
   "cell_type": "code",
   "execution_count": 27,
   "metadata": {},
   "outputs": [
    {
     "data": {
      "image/png": "[encoded data removed]",
      "text/plain": [
       "<Figure size 720x432 with 1 Axes>"
      ]
     },
     "metadata": {
      "needs_background": "light"
     },
     "output_type": "display_data"
    }
   ],
   "source": [
    "from sklearn.metrics import confusion_matrix\n",
    "from sklearn.naive_bayes import MultinomialNB\n",
    "\n",
    "# Create and train the Naive Bayes model\n",
    "model = MultinomialNB()\n",
    "model.fit(X_train, y_train) \n",
    "\n",
    "conf_matrix = confusion_matrix(y_test, y_pred)\n",
    "\n",
    "plt.figure(figsize=(10, 6))\n",
    "sns.heatmap(conf_matrix, annot=True, fmt='d', cmap='coolwarm', cbar=False,\n",
    "            xticklabels=model.classes_, yticklabels=model.classes_)\n",
    "plt.title(\"Confusion Matrix\")\n",
    "plt.xlabel(\"Predicted Label\")\n",
    "plt.ylabel(\"True Label\")\n",
    "plt.show()"
   ]
  },
  {
   "cell_type": "code",
   "execution_count": null,
   "metadata": {},
   "outputs": [],
   "source": []
  }
 ],
 "metadata": {
  "colab": {
   "provenance": []
  },
  "kernelspec": {
   "display_name": "Python 3 (ipykernel)",
   "language": "python",
   "name": "python3"
  },
  "language_info": {
   "codemirror_mode": {
    "name": "ipython",
    "version": 3
   },
   "file_extension": ".py",
   "mimetype": "text/x-python",
   "name": "python",
   "nbconvert_exporter": "python",
   "pygments_lexer": "ipython3",
   "version": "3.10.9"
  }
 },
 "nbformat": 4,
 "nbformat_minor": 1
}
